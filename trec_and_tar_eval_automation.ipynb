{
 "cells": [
  {
   "cell_type": "code",
   "execution_count": 2,
   "metadata": {
    "scrolled": false
   },
   "outputs": [
    {
     "name": "stdout",
     "output_type": "stream",
     "text": [
      "trec_eval tar.qrels /results/bm25_b0.75_k1.2pubmed_4_tar.query.res > bm25_b0.75_k1.2pubmed_4_tar.query.res_trec_eval_measurements\n",
      "\n",
      "\n",
      "trec_eval tar.qrels /results/bm25_b0.75_k1.2pubmed_1_tar.title.query.res > bm25_b0.75_k1.2pubmed_1_tar.title.query.res_trec_eval_measurements\n",
      "\n",
      "\n",
      "trec_eval tar.qrels /results/bm25_b0.75_k1.2pubmed_3_tar.query.title.query.res > bm25_b0.75_k1.2pubmed_3_tar.query.title.query.res_trec_eval_measurements\n",
      "\n",
      "\n",
      "trec_eval tar.qrels /results/bm25_b0.75_k1.2pubmed_5_tar.query.title.query.res > bm25_b0.75_k1.2pubmed_5_tar.query.title.query.res_trec_eval_measurements\n",
      "\n",
      "\n",
      "trec_eval tar.qrels /results/bm25_b0.75_k1.2pubmed_5_tar.query.res > bm25_b0.75_k1.2pubmed_5_tar.query.res_trec_eval_measurements\n",
      "\n",
      "\n",
      "trec_eval tar.qrels /results/bm25_b0.75_k1.2pubmed_2_tar.query.title.query.res > bm25_b0.75_k1.2pubmed_2_tar.query.title.query.res_trec_eval_measurements\n",
      "\n",
      "\n",
      "trec_eval tar.qrels /results/bm25_b0.75_k1.2pubmed_1_tar.query.title.query.res > bm25_b0.75_k1.2pubmed_1_tar.query.title.query.res_trec_eval_measurements\n",
      "\n",
      "\n",
      "trec_eval tar.qrels /results/bm25_b0.75_k1.2pubmed_2_tar.query.res > bm25_b0.75_k1.2pubmed_2_tar.query.res_trec_eval_measurements\n",
      "\n",
      "\n",
      "trec_eval tar.qrels /results/bm25_b0.75_k1.2pubmed_4_tar.title.query.res > bm25_b0.75_k1.2pubmed_4_tar.title.query.res_trec_eval_measurements\n",
      "\n",
      "\n",
      "trec_eval tar.qrels /results/bm25_b0.75_k1.2pubmed_3_tar.title.query.res > bm25_b0.75_k1.2pubmed_3_tar.title.query.res_trec_eval_measurements\n",
      "\n",
      "\n",
      "trec_eval tar.qrels /results/bm25_b0.75_k1.2pubmed_4_tar.query.title.query.res > bm25_b0.75_k1.2pubmed_4_tar.query.title.query.res_trec_eval_measurements\n",
      "\n",
      "\n",
      "trec_eval tar.qrels /results/bm25_b0.75_k1.2pubmed_2_tar.title.query.res > bm25_b0.75_k1.2pubmed_2_tar.title.query.res_trec_eval_measurements\n",
      "\n",
      "\n",
      "trec_eval tar.qrels /results/bm25_b0.75_k1.2pubmed_1_tar.query.res > bm25_b0.75_k1.2pubmed_1_tar.query.res_trec_eval_measurements\n",
      "\n",
      "\n",
      "trec_eval tar.qrels /results/bm25_b0.75_k1.2pubmed_5_tar.title.query.res > bm25_b0.75_k1.2pubmed_5_tar.title.query.res_trec_eval_measurements\n",
      "\n",
      "\n",
      "trec_eval tar.qrels /results/bm25_b0.75_k1.2pubmed_3_tar.query.res > bm25_b0.75_k1.2pubmed_3_tar.query.res_trec_eval_measurements\n",
      "\n",
      "\n"
     ]
    }
   ],
   "source": [
    "# author = Alexandros\n",
    "import os\n",
    "\n",
    "result_files = []\n",
    "#/home/alexandros/netbeans-8.2/NetBeansProjects/lucene4ir-master/data/pubmed/results \n",
    "for result_file in os.listdir(\"/home/alexandros/netbeans-8.2/NetBeansProjects/lucene4ir-master/data/pubmed/results\"):\n",
    "    #print(result_file)\n",
    "    result_files.append(result_file)\n",
    "#print(result_files)\n",
    "\n",
    "for i, result_file in enumerate(result_files):\n",
    "    #print(\"trec_eval -q tar.qrels /results/\"+result_file+\" > \"+result_file+\"_trec_eval_q_measurements\")\n",
    "    print(\"trec_eval tar.qrels /results/\"+result_file+\" > \"+result_file+\"_trec_eval_measurements\")\n",
    "    print('\\n')\n",
    "    #os.system(\"trec_eval -q tar.qrels results/\"+result_file+\" > \"+result_file+\"_trec_eval_q_measurements\")\n",
    "    os.system(\"trec_eval tar.qrels results/\"+result_file+\" > \"+result_file+\"_trec_eval_measurements\")\n",
    "    #print(\"python /home/alexandros/netbeans-8.2/NetBeansProjects/tar-master/scripts/tar_eval.py /home/alexandros/netbeans-8.2/NetBeansProjects/lucene4ir-master/data/pubmed/tar.qrels /home/alexandros/netbeans-8.2/NetBeansProjects/lucene4ir-master/data/pubmed/results/\"+result_file+\" > \"+result_file+\"_tar_eval_measurements\")\n",
    "    #print('\\n')\n",
    "    #os.system(\"python /home/alexandros/netbeans-8.2/NetBeansProjects/tar-master/scripts/tar_eval.py /home/alexandros/netbeans-8.2/NetBeansProjects/lucene4ir-master/data/pubmed/tar.qrels /home/alexandros/netbeans-8.2/NetBeansProjects/lucene4ir-master/data/pubmed/results/\"+result_file+\" > \"+result_file+\"_tar_eval_measurements\")"
   ]
  }
 ],
 "metadata": {
  "kernelspec": {
   "display_name": "Python 3",
   "language": "python",
   "name": "python3"
  },
  "language_info": {
   "codemirror_mode": {
    "name": "ipython",
    "version": 3
   },
   "file_extension": ".py",
   "mimetype": "text/x-python",
   "name": "python",
   "nbconvert_exporter": "python",
   "pygments_lexer": "ipython3",
   "version": "3.6.3"
  }
 },
 "nbformat": 4,
 "nbformat_minor": 2
}
