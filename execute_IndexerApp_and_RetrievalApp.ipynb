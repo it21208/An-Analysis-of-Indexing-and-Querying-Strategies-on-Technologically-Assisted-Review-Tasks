{
 "cells": [
  {
   "cell_type": "code",
   "execution_count": 2,
   "metadata": {},
   "outputs": [
    {
     "name": "stdout",
     "output_type": "stream",
     "text": [
      "Done\n"
     ]
    }
   ],
   "source": [
    "# author = Alexandros\n",
    "import os\n",
    "from xml.etree import ElementTree as et\n",
    "import xml.etree.ElementTree\n",
    "import decimal\n",
    "\n",
    "def drange(x, y, jump):\n",
    "    while x < y:\n",
    "        yield float(x)\n",
    "        x += decimal.Decimal(jump)\n",
    "\n",
    "query_parsers = []\n",
    "for file in os.listdir(\"/home/alexandros/netbeans-8.2/NetBeansProjects/lucene4ir-master/data/pubmed/query_parsers_tar2018\"):\n",
    "    #print(os.path.join(\"/data/pubmed/query_parsers/\", file))\n",
    "    query_parsers.append(\"data/pubmed/query_parsers_tar2018/\"+file)\n",
    "    #print(query_parsers)\n",
    "\n",
    "index_types = ['pubmed_1','pubmed_2','pubmed_3','pubmed_4','pubmed_5']\n",
    "#index_types = ['pubmed_5']\n",
    "#tokenizers = ['standard','letter','whitespace','lowercase','classic','ngram']\n",
    "#stopwordlists = ['/data/stopwords.txt','/data/LongStopwordList.txt','/data/PubmedStopwordList.txt','/data/EBSCOhostMedicalDatabasesStopwordList.txt']\n",
    "for index_type in index_types:\n",
    "    et2 = xml.etree.ElementTree.parse('/home/alexandros/netbeans-8.2/NetBeansProjects/lucene4ir-master/params/index/index_params.xml')\n",
    "    et2.find('.//indexType').text = index_type\n",
    "    et2.write('/home/alexandros/netbeans-8.2/NetBeansProjects/lucene4ir-master/params/index/index_params.xml') \n",
    "    # Execute IndexerApp\n",
    "    os.system(\"mvn -o clean install\")\n",
    "    os.system(\"java -cp target/lucene4ir-0.0.1-SNAPSHOT.jar lucene4ir.IndexerApp params/index/index_params.xml\")        \n",
    "    for query_style in query_parsers:\n",
    "    #for k in drange(1,2.01,0.2):\n",
    "    #for b in drange(0,1.01,0.1):\n",
    "    #for tokenizer in tokenizers:\n",
    "    #for stopwordlist in stopwordlists:\n",
    "        #print(query_style)\n",
    "        #print(\"data/pubmed/results/bm25_0.75_\"+query_style.rsplit('/', 1)[-1]+\".res\")\n",
    "        # Open file\n",
    "        # Element.find() finds the first child with a particular tag, and Element.text accesses the element's text content\n",
    "        et = xml.etree.ElementTree.parse('/home/alexandros/netbeans-8.2/NetBeansProjects/lucene4ir-master/params/retrieval_params.xml')\n",
    "        #et2 = xml.etree.ElementTree.parse('/home/alexandros/netbeans-8.2/NetBeansProjects/lucene4ir-master/params/index/token_filter_file.xml')\n",
    "        #et2.find('.//tokenizer').text = tokenizer    \n",
    "        #et2.find('.//value').text = stopwordlist\n",
    "        #print(et)\n",
    "        #print(et.find('.//queryFile').text)\n",
    "        #print(et.find('.//resultFile').text)\n",
    "        et.find('.//queryFile').text = query_style\n",
    "        #et.find('.//b').text = str(float(b))                        \n",
    "        #et.find('.//k').text = str(float(k))\n",
    "        et.find('.//resultFile').text = \"data/pubmed/results/bm25_b0.75_k1.2\"+index_type+\"_\"+query_style.rsplit('/', 1)[-1]+\".res\"\n",
    "        #et.find('.//resultFile').text = \"data/pubmed/results/bm25_b0.75_\"+index_type+\"_k\"+str(float(k))+\"_\"+query_style.rsplit('/', 1)[-1]+\".res\"\n",
    "        #et.find('.//resultFile').text = \"data/pubmed/results/bm25_k1.2_\"+index_type+\"_b\"+str(float(b))+\"_\"+query_style.rsplit('/', 1)[-1]+\".res\"\n",
    "        #et.find('.//runTag').text = \"Bm25.b\"+str(float(b))+\".k1.2.\"+query_style.rsplit('/', 1)[-1]\n",
    "        et.find('.//runTag').text = \"Bm25.b0.75.k1.2.\"+query_style.rsplit('/', 1)[-1]\n",
    "        #et.find('.//runTag').text = \"Bm25.b0.75\"+\".k\"+str(float(k))+\".\"+query_style.rsplit('/', 1)[-1]\n",
    "        #et.find('.//resultFile').text = \"data/pubmed/results/bm25_b0.75_k1.2\"+index_type+\"_\"+query_style.rsplit('/', 1)[-1]+\"_\"+tokenizer+\".res\"\n",
    "        #et.find('.//resultFile').text = \"data/pubmed/results/bm25_b0.75_k1.2\"+index_type+\"_\"+query_style.rsplit('/', 1)[-1]+\"_\"+tokenizer+\"_\"+stopwordlist.rsplit('/', 1)[-1]+\".res\"\n",
    "        #et.find('.//resultFile').text = \"data/pubmed/results/bm25_b0.75_k1.2\"+index_type+\"_\"+query_style.rsplit('/', 1)[-1]+\"_\"+tokenizer+\".res\"\n",
    "        #et.find('.//resultFile').text = \"data/pubmed/results/bm25_b0.75_\"+index_type+\"_k\"+str(float(k))+\"_\"+query_style.rsplit('/', 1)[-1]+\"_\"+tokenizer+\".res\"\n",
    "        #print(et.find('.//queryFile').text)\n",
    "        #print(et.find('.//resultFile').text)\n",
    "        #Write back to file\n",
    "        et.write('/home/alexandros/netbeans-8.2/NetBeansProjects/lucene4ir-master/params/retrieval_params.xml')\n",
    "        #et2.write('/home/alexandros/netbeans-8.2/NetBeansProjects/lucene4ir-master/params/index/token_filter_file.xml')\n",
    "        os.system(\"mvn -o clean install\")\n",
    "        os.system(\"java -cp target/lucene4ir-0.0.1-SNAPSHOT.jar lucene4ir.RetrievalApp params/retrieval_params.xml\")\n",
    "print('Done')"
   ]
  }
 ],
 "metadata": {
  "kernelspec": {
   "display_name": "Python 3",
   "language": "python",
   "name": "python3"
  },
  "language_info": {
   "codemirror_mode": {
    "name": "ipython",
    "version": 3
   },
   "file_extension": ".py",
   "mimetype": "text/x-python",
   "name": "python",
   "nbconvert_exporter": "python",
   "pygments_lexer": "ipython3",
   "version": "3.6.8"
  }
 },
 "nbformat": 4,
 "nbformat_minor": 2
}
